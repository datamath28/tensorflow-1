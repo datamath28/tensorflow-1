{
 "cells": [
  {
   "cell_type": "markdown",
   "metadata": {
    "colab_type": "text",
    "id": "D7tqLMoKF6uq"
   },
   "source": [
    "Deep Learning\n",
    "=============\n",
    "\n",
    "Assignment 5\n",
    "------------\n",
    "\n",
    "The goal of this assignment is to train a skip-gram model over [Text8](http://mattmahoney.net/dc/textdata) data."
   ]
  },
  {
   "cell_type": "code",
   "execution_count": 10,
   "metadata": {
    "cellView": "both",
    "colab": {
     "autoexec": {
      "startup": false,
      "wait_interval": 0
     }
    },
    "colab_type": "code",
    "collapsed": true,
    "id": "0K1ZyLn04QZf"
   },
   "outputs": [],
   "source": [
    "# These are all the modules we'll be using later. Make sure you can import them\n",
    "# before proceeding further.\n",
    "import collections\n",
    "import math\n",
    "import numpy as np\n",
    "import os\n",
    "import random\n",
    "import tensorflow as tf\n",
    "import time\n",
    "import urllib\n",
    "import zipfile\n",
    "from matplotlib import pylab\n",
    "from sklearn.manifold import TSNE"
   ]
  },
  {
   "cell_type": "markdown",
   "metadata": {
    "colab_type": "text",
    "id": "aCjPJE944bkV"
   },
   "source": [
    "Download the data from the source website if necessary."
   ]
  },
  {
   "cell_type": "code",
   "execution_count": 2,
   "metadata": {
    "cellView": "both",
    "colab": {
     "autoexec": {
      "startup": false,
      "wait_interval": 0
     },
     "output_extras": [
      {
       "item_id": 1
      }
     ]
    },
    "colab_type": "code",
    "collapsed": false,
    "executionInfo": {
     "elapsed": 14640,
     "status": "ok",
     "timestamp": 1445964482948,
     "user": {
      "color": "#1FA15D",
      "displayName": "Vincent Vanhoucke",
      "isAnonymous": false,
      "isMe": true,
      "permissionId": "05076109866853157986",
      "photoUrl": "//lh6.googleusercontent.com/-cCJa7dTDcgQ/AAAAAAAAAAI/AAAAAAAACgw/r2EZ_8oYer4/s50-c-k-no/photo.jpg",
      "sessionId": "2f1ffade4c9f20de",
      "userId": "102167687554210253930"
     },
     "user_tz": 420
    },
    "id": "RJ-o3UBUFtCw",
    "outputId": "c4ec222c-80b5-4298-e635-93ca9f79c3b7"
   },
   "outputs": [
    {
     "name": "stdout",
     "output_type": "stream",
     "text": [
      "Found and verified text8.zip\n"
     ]
    }
   ],
   "source": [
    "url = 'http://mattmahoney.net/dc/'\n",
    "\n",
    "def maybe_download(filename, expected_bytes):\n",
    "  \"\"\"Download a file if not present, and make sure it's the right size.\"\"\"\n",
    "  if not os.path.exists(filename):\n",
    "    filename, _ = urllib.urlretrieve(url + filename, filename)\n",
    "  statinfo = os.stat(filename)\n",
    "  if statinfo.st_size == expected_bytes:\n",
    "    print 'Found and verified', filename\n",
    "  else:\n",
    "    print statinfo.st_size\n",
    "    raise Exception(\n",
    "      'Failed to verify ' + filename + '. Can you get to it with a browser?')\n",
    "  return filename\n",
    "\n",
    "filename = maybe_download('text8.zip', 31344016)"
   ]
  },
  {
   "cell_type": "markdown",
   "metadata": {
    "colab_type": "text",
    "id": "Zqz3XiqI4mZT"
   },
   "source": [
    "Read the data into a string."
   ]
  },
  {
   "cell_type": "code",
   "execution_count": 3,
   "metadata": {
    "cellView": "both",
    "colab": {
     "autoexec": {
      "startup": false,
      "wait_interval": 0
     },
     "output_extras": [
      {
       "item_id": 1
      }
     ]
    },
    "colab_type": "code",
    "collapsed": false,
    "executionInfo": {
     "elapsed": 28844,
     "status": "ok",
     "timestamp": 1445964497165,
     "user": {
      "color": "#1FA15D",
      "displayName": "Vincent Vanhoucke",
      "isAnonymous": false,
      "isMe": true,
      "permissionId": "05076109866853157986",
      "photoUrl": "//lh6.googleusercontent.com/-cCJa7dTDcgQ/AAAAAAAAAAI/AAAAAAAACgw/r2EZ_8oYer4/s50-c-k-no/photo.jpg",
      "sessionId": "2f1ffade4c9f20de",
      "userId": "102167687554210253930"
     },
     "user_tz": 420
    },
    "id": "Mvf09fjugFU_",
    "outputId": "e3a928b4-1645-4fe8-be17-fcf47de5716d"
   },
   "outputs": [
    {
     "name": "stdout",
     "output_type": "stream",
     "text": [
      "Data size 17005207\n"
     ]
    }
   ],
   "source": [
    "def read_data(filename):\n",
    "  f = zipfile.ZipFile(filename)\n",
    "  for name in f.namelist():\n",
    "    return f.read(name).split()\n",
    "  f.close()\n",
    "  \n",
    "words = read_data(filename)\n",
    "print 'Data size', len(words)"
   ]
  },
  {
   "cell_type": "markdown",
   "metadata": {
    "colab_type": "text",
    "id": "Zdw6i4F8glpp"
   },
   "source": [
    "Build the dictionary and replace rare words with UNK token."
   ]
  },
  {
   "cell_type": "code",
   "execution_count": 4,
   "metadata": {
    "cellView": "both",
    "colab": {
     "autoexec": {
      "startup": false,
      "wait_interval": 0
     },
     "output_extras": [
      {
       "item_id": 1
      }
     ]
    },
    "colab_type": "code",
    "collapsed": false,
    "executionInfo": {
     "elapsed": 28849,
     "status": "ok",
     "timestamp": 1445964497178,
     "user": {
      "color": "#1FA15D",
      "displayName": "Vincent Vanhoucke",
      "isAnonymous": false,
      "isMe": true,
      "permissionId": "05076109866853157986",
      "photoUrl": "//lh6.googleusercontent.com/-cCJa7dTDcgQ/AAAAAAAAAAI/AAAAAAAACgw/r2EZ_8oYer4/s50-c-k-no/photo.jpg",
      "sessionId": "2f1ffade4c9f20de",
      "userId": "102167687554210253930"
     },
     "user_tz": 420
    },
    "id": "gAL1EECXeZsD",
    "outputId": "3fb4ecd1-df67-44b6-a2dc-2291730970b2"
   },
   "outputs": [
    {
     "name": "stdout",
     "output_type": "stream",
     "text": [
      "Most common words (+UNK) [['UNK', 418391], ('the', 1061396), ('of', 593677), ('and', 416629), ('one', 411764)]\n",
      "Sample data [5239, 3084, 12, 6, 195, 2, 3137, 46, 59, 156]\n"
     ]
    }
   ],
   "source": [
    "vocabulary_size = 50000\n",
    "\n",
    "def build_dataset(words):\n",
    "  count = [['UNK', -1]]\n",
    "  count.extend(collections.Counter(words).most_common(vocabulary_size - 1))\n",
    "  dictionary = dict()\n",
    "  for word, _ in count:\n",
    "    dictionary[word] = len(dictionary)\n",
    "  data = list()\n",
    "  unk_count = 0\n",
    "  for word in words:\n",
    "    if word in dictionary:\n",
    "      index = dictionary[word]\n",
    "    else:\n",
    "      index = 0  # dictionary['UNK']\n",
    "      unk_count = unk_count + 1\n",
    "    data.append(index)\n",
    "  count[0][1] = unk_count\n",
    "  reverse_dictionary = dict(zip(dictionary.values(), dictionary.keys())) \n",
    "  return data, count, dictionary, reverse_dictionary\n",
    "\n",
    "data, count, dictionary, reverse_dictionary = build_dataset(words)\n",
    "print 'Most common words (+UNK)', count[:5]\n",
    "print 'Sample data', data[:10]\n",
    "del words  # Hint to reduce memory."
   ]
  },
  {
   "cell_type": "markdown",
   "metadata": {
    "colab_type": "text",
    "id": "lFwoyygOmWsL"
   },
   "source": [
    "Function to generate a training batch for the skip-gram model."
   ]
  },
  {
   "cell_type": "code",
   "execution_count": 5,
   "metadata": {
    "cellView": "both",
    "colab": {
     "autoexec": {
      "startup": false,
      "wait_interval": 0
     },
     "output_extras": [
      {
       "item_id": 1
      }
     ]
    },
    "colab_type": "code",
    "collapsed": false,
    "executionInfo": {
     "elapsed": 113,
     "status": "ok",
     "timestamp": 1445964901989,
     "user": {
      "color": "#1FA15D",
      "displayName": "Vincent Vanhoucke",
      "isAnonymous": false,
      "isMe": true,
      "permissionId": "05076109866853157986",
      "photoUrl": "//lh6.googleusercontent.com/-cCJa7dTDcgQ/AAAAAAAAAAI/AAAAAAAACgw/r2EZ_8oYer4/s50-c-k-no/photo.jpg",
      "sessionId": "2f1ffade4c9f20de",
      "userId": "102167687554210253930"
     },
     "user_tz": 420
    },
    "id": "w9APjA-zmfjV",
    "outputId": "67cccb02-cdaf-4e47-d489-43bcc8d57bb8"
   },
   "outputs": [
    {
     "name": "stdout",
     "output_type": "stream",
     "text": [
      "3084 -> 5239\n",
      "originated -> anarchism\n",
      "3084 -> 12\n",
      "originated -> as\n",
      "12 -> 6\n",
      "as -> a\n",
      "12 -> 3084\n",
      "as -> originated\n",
      "6 -> 195\n",
      "a -> term\n",
      "6 -> 12\n",
      "a -> as\n",
      "195 -> 6\n",
      "term -> a\n",
      "195 -> 2\n",
      "term -> of\n"
     ]
    }
   ],
   "source": [
    "data_index = 0\n",
    "\n",
    "def generate_batch(batch_size, num_skips, skip_window):\n",
    "  global data_index\n",
    "  assert batch_size % num_skips == 0\n",
    "  assert num_skips <= 2 * skip_window\n",
    "  batch = np.ndarray(shape=(batch_size), dtype=np.int32)\n",
    "  labels = np.ndarray(shape=(batch_size, 1), dtype=np.int32)\n",
    "  span = 2 * skip_window + 1 # [ skip_window target skip_window ]\n",
    "  buffer = collections.deque(maxlen=span)\n",
    "  for _ in range(span):\n",
    "    buffer.append(data[data_index])\n",
    "    data_index = (data_index + 1) % len(data)\n",
    "  for i in range(batch_size / num_skips):\n",
    "    target = skip_window  # target label at the center of the buffer\n",
    "    targets_to_avoid = [ skip_window ]\n",
    "    for j in range(num_skips):\n",
    "      while target in targets_to_avoid:\n",
    "        target = random.randint(0, span - 1)\n",
    "      targets_to_avoid.append(target)\n",
    "      batch[i * num_skips + j] = buffer[skip_window]\n",
    "      labels[i * num_skips + j, 0] = buffer[target]\n",
    "    buffer.append(data[data_index])\n",
    "    data_index = (data_index + 1) % len(data)\n",
    "  return batch, labels\n",
    "\n",
    "batch, labels = generate_batch(batch_size=8, num_skips=2, skip_window=1)\n",
    "for i in range(8):\n",
    "  print batch[i], '->', labels[i, 0]\n",
    "  print reverse_dictionary[batch[i]], '->', reverse_dictionary[labels[i, 0]]"
   ]
  },
  {
   "cell_type": "markdown",
   "metadata": {
    "colab_type": "text",
    "id": "Ofd1MbBuwiva"
   },
   "source": [
    "Train a skip-gram model."
   ]
  },
  {
   "cell_type": "code",
   "execution_count": 7,
   "metadata": {
    "cellView": "both",
    "colab": {
     "autoexec": {
      "startup": false,
      "wait_interval": 0
     }
    },
    "colab_type": "code",
    "collapsed": true,
    "id": "8pQKsV4Vwlzy"
   },
   "outputs": [],
   "source": [
    "batch_size = 128\n",
    "embedding_size = 128 # Dimension of the embedding vector.\n",
    "skip_window = 1 # How many words to consider left and right.\n",
    "num_skips = 2 # How many times to reuse an input to generate a label.\n",
    "# We pick a random validation set to sample nearest neighbors. here we limit the\n",
    "# validation samples to the words that have a low numeric ID, which by\n",
    "# construction are also the most frequent. \n",
    "valid_size = 16 # Random set of words to evaluate similarity on.\n",
    "valid_window = 100 # Only pick dev samples in the head of the distribution.\n",
    "valid_examples = np.array(random.sample(xrange(valid_window), valid_size))\n",
    "num_sampled = 64 # Number of negative examples to sample.\n",
    "\n",
    "graph = tf.Graph()\n",
    "\n",
    "with graph.as_default():\n",
    "\n",
    "  # Input data.\n",
    "  train_dataset = tf.placeholder(tf.int32, shape=[batch_size])\n",
    "  train_labels = tf.placeholder(tf.int32, shape=[batch_size, 1])\n",
    "  valid_dataset = tf.constant(valid_examples, dtype=tf.int32)\n",
    "  \n",
    "  # Variables.\n",
    "  embeddings = tf.Variable(\n",
    "    tf.random_uniform([vocabulary_size, embedding_size], -1.0, 1.0))\n",
    "  softmax_weights = tf.Variable(\n",
    "    tf.truncated_normal([vocabulary_size, embedding_size],\n",
    "                         stddev=1.0 / math.sqrt(embedding_size)))\n",
    "  softmax_biases = tf.Variable(tf.zeros([vocabulary_size]))\n",
    "  \n",
    "  # Model.\n",
    "  # Look up embeddings for inputs.\n",
    "  embed = tf.nn.embedding_lookup(embeddings, train_dataset)\n",
    "  # Compute the softmax loss, using a sample of the negative labels each time.\n",
    "  loss = tf.reduce_mean(\n",
    "    tf.nn.sampled_softmax_loss(softmax_weights, softmax_biases, embed,\n",
    "                               train_labels, num_sampled, vocabulary_size))\n",
    "\n",
    "  # Optimizer.\n",
    "  optimizer = tf.train.AdagradOptimizer(1.0).minimize(loss)\n",
    "  \n",
    "  # Compute the similarity between minibatch examples and all embeddings.\n",
    "  # We use the cosine distance:\n",
    "  norm = tf.sqrt(tf.reduce_sum(tf.square(embeddings), 1, keep_dims=True))\n",
    "  normalized_embeddings = embeddings / norm\n",
    "  valid_embeddings = tf.nn.embedding_lookup(\n",
    "    normalized_embeddings, valid_dataset)\n",
    "  similarity = tf.matmul(valid_embeddings, tf.transpose(normalized_embeddings))"
   ]
  },
  {
   "cell_type": "code",
   "execution_count": 11,
   "metadata": {
    "cellView": "both",
    "colab": {
     "autoexec": {
      "startup": false,
      "wait_interval": 0
     },
     "output_extras": [
      {
       "item_id": 23
      },
      {
       "item_id": 48
      },
      {
       "item_id": 61
      }
     ]
    },
    "colab_type": "code",
    "collapsed": false,
    "executionInfo": {
     "elapsed": 436189,
     "status": "ok",
     "timestamp": 1445965429787,
     "user": {
      "color": "#1FA15D",
      "displayName": "Vincent Vanhoucke",
      "isAnonymous": false,
      "isMe": true,
      "permissionId": "05076109866853157986",
      "photoUrl": "//lh6.googleusercontent.com/-cCJa7dTDcgQ/AAAAAAAAAAI/AAAAAAAACgw/r2EZ_8oYer4/s50-c-k-no/photo.jpg",
      "sessionId": "2f1ffade4c9f20de",
      "userId": "102167687554210253930"
     },
     "user_tz": 420
    },
    "id": "1bQFGceBxrWW",
    "outputId": "5ebd6d9a-33c6-4bcd-bf6d-252b0b6055e4"
   },
   "outputs": [
    {
     "name": "stdout",
     "output_type": "stream",
     "text": [
      "Initialized\n",
      "Average loss at step 0 : 7.66817951202\n",
      "Nearest to more: carnivores, linde, hypotension, beautifully, narrative, hill, reopen, topple,\n",
      "Nearest to states: rehab, auchinleck, baiting, boots, mitterrand, fragmentary, kirkwood, judaic,\n",
      "Nearest to these: monist, crewmembers, digs, repeal, controllable, unamended, hockey, cryopreserved,\n",
      "Nearest to can: kary, industrialists, gunmen, simulate, haliotis, arctocephalus, tiff, scsi,\n",
      "Nearest to on: throttled, grandfather, digweed, violent, distort, factor, townhouse, tangents,\n",
      "Nearest to have: miquelon, yad, smart, effecting, incoherent, inscriptions, volker, lollardy,\n",
      "Nearest to also: adaptive, palliative, antidisestablishmentarianism, byproduct, riddler, lollard, flatter, vtol,\n",
      "Nearest to time: kaunda, cameron, generals, ati, splice, barca, boka, bridges,\n",
      "Nearest to for: environmentalist, nord, criticisms, ragged, slovene, informative, pickering, investigate,\n",
      "Nearest to not: gibraltarians, pigeons, boundless, brazzaville, influences, rack, anglicized, moods,\n",
      "Nearest to during: humorists, mazar, enquiries, bartleby, relativism, samarkand, dingo, bundy,\n",
      "Nearest to all: females, exxonmobil, mythos, ace, wednesday, presheaf, pheasants, talon,\n",
      "Nearest to people: smashing, intruders, soar, practicing, anxious, each, lounge, archives,\n",
      "Nearest to two: cmd, mn, promulgated, contrabass, lender, channels, trailer, someday,\n",
      "Nearest to some: defines, milanese, mission, scud, traveled, mysteriously, theodoric, dislikes,\n",
      "Nearest to or: costing, sira, uncomfortable, northeasterly, mallets, equates, enso, legionnaires,\n",
      "Average loss at step 2000 : 4.36821170788\n",
      "Average loss at step 4000 : 3.87655051345\n",
      "Average loss at step 6000 : 3.79599065763\n",
      "Average loss at step 8000 : 3.75892457753\n",
      "Average loss at step 10000 : 3.62592603385\n",
      "Nearest to more: moretti, greenspan, hill, less, good, noether, mumia, poetically,\n",
      "Nearest to states: rehab, microevolution, filmfare, auchinleck, elimination, baiting, boots, obstructed,\n",
      "Nearest to these: hofstadter, delegation, spring, many, such, electronegative, others, monist,\n",
      "Nearest to can: will, should, may, would, could, apartheid, starry, to,\n",
      "Nearest to on: in, throttled, by, and, from, grandfather, at, monatomic,\n",
      "Nearest to have: had, has, are, be, were, make, druid, vint,\n",
      "Nearest to also: which, connectedness, now, prohibitions, lucia, pursuits, that, achilles,\n",
      "Nearest to time: generals, gurney, way, name, seele, zhaozhou, heir, fulfil,\n",
      "Nearest to for: and, gottorp, of, pangloss, narrow, with, or, in,\n",
      "Nearest to not: petacci, they, it, now, usually, wallet, eustace, baudelaire,\n",
      "Nearest to during: humorists, enquiries, lucius, including, chronometer, mazar, in, cyclopaedia,\n",
      "Nearest to all: many, females, talon, ace, untitled, coincides, ashkenazic, handled,\n",
      "Nearest to people: anxious, errant, comforted, phys, authoritarianism, excerpts, answered, adenylate,\n",
      "Nearest to two: three, one, four, six, five, seven, eight, zero,\n",
      "Nearest to some: vijayanagara, many, which, defines, the, atomists, romana, insects,\n",
      "Nearest to or: and, skipping, for, diff, childress, mathematische, uncomfortable, peckinpah,\n",
      "Average loss at step 12000 : 3.58182682902\n",
      "Average loss at step 14000 : 3.61251737159\n",
      "Average loss at step 16000 : 3.58361910528\n",
      "Average loss at step 18000 : 3.56939673305\n",
      "Average loss at step 20000 : 3.54368582726\n",
      "Nearest to more: less, most, hill, greenspan, sideband, noether, very, moretti,\n",
      "Nearest to states: rehab, elimination, microevolution, tahitian, filmfare, dusseldorf, concentrated, transparent,\n",
      "Nearest to these: many, such, some, they, electronegative, several, examples, others,\n",
      "Nearest to can: will, may, should, would, could, must, to, cannot,\n",
      "Nearest to on: upon, in, throttled, digweed, mpaa, grandfather, phanerozoic, at,\n",
      "Nearest to have: had, has, are, be, were, druid, include, vint,\n",
      "Nearest to also: which, now, that, often, who, externalization, sometimes, not,\n",
      "Nearest to time: way, seele, intercalary, manipulative, name, engineering, bridges, opposite,\n",
      "Nearest to for: by, sesotho, pangloss, to, at, drank, after, when,\n",
      "Nearest to not: now, usually, petacci, to, often, workaround, also, it,\n",
      "Nearest to during: in, humorists, at, lucius, including, enquiries, designers, chronometer,\n",
      "Nearest to all: many, talon, some, any, toon, mosul, gambia, both,\n",
      "Nearest to people: errant, anxious, answered, feedback, authoritarianism, we, judas, comforted,\n",
      "Nearest to two: four, three, five, six, eight, seven, one, nine,\n",
      "Nearest to some: many, these, several, any, all, vijayanagara, examples, other,\n",
      "Nearest to or: and, childress, qantas, any, than, pg, imprint, diff,\n",
      "Average loss at step 22000 : 3.52947951302\n",
      "Average loss at step 24000 : 3.43672612029\n",
      "Average loss at step 26000 : 3.41415787864\n",
      "Average loss at step 28000 : 3.47641845453\n",
      "Average loss at step 30000 : 3.40965731037\n",
      "Nearest to more: less, most, sideband, noether, greenspan, moretti, hill, very,\n",
      "Nearest to states: rehab, nations, elimination, concentrated, kingdom, dusseldorf, sloths, mitterrand,\n",
      "Nearest to these: some, many, such, several, they, examples, those, their,\n",
      "Nearest to can: may, will, would, should, could, must, cannot, might,\n",
      "Nearest to on: in, upon, at, digweed, through, off, grandfather, onboard,\n",
      "Nearest to have: had, has, be, are, were, include, druid, having,\n",
      "Nearest to also: often, which, now, sometimes, below, there, not, generally,\n",
      "Nearest to time: intercalary, option, omnivorous, way, year, performance, consciousness, emptiness,\n",
      "Nearest to for: narrow, sesotho, and, hunan, when, pangloss, in, salaries,\n",
      "Nearest to not: usually, now, it, also, they, you, workaround, overlaps,\n",
      "Nearest to during: in, at, after, cyclopaedia, cgs, designers, blanca, including,\n",
      "Nearest to all: many, some, each, talon, toon, females, bound, coincides,\n",
      "Nearest to people: errant, answered, fans, feedback, we, languages, countries, paschal,\n",
      "Nearest to two: six, three, four, five, seven, eight, zero, nine,\n",
      "Nearest to some: many, several, these, any, other, all, most, vijayanagara,\n",
      "Nearest to or: and, than, nez, childress, pg, cointelpro, skipping, imprint,\n",
      "Average loss at step 32000 : 3.4136098513\n",
      "Average loss at step 34000 : 3.43438757047\n",
      "Average loss at step 36000 : 3.36221178696\n",
      "Average loss at step 38000 : 3.49226129138\n",
      "Average loss at step 40000 : 3.43965717524\n",
      "Nearest to more: less, most, very, sideband, moretti, greater, good, noether,\n",
      "Nearest to states: nations, kingdom, rehab, dusseldorf, elimination, filmfare, animating, obstructed,\n",
      "Nearest to these: some, many, several, such, those, all, both, examples,\n",
      "Nearest to can: will, may, could, should, would, cannot, must, might,\n",
      "Nearest to on: upon, at, digweed, in, off, baile, through, webs,\n",
      "Nearest to have: had, has, include, are, were, be, do, druid,\n",
      "Nearest to also: often, which, now, usually, sometimes, generally, still, connectedness,\n",
      "Nearest to time: emptiness, reworked, omnivorous, stol, avatars, intercalary, name, newell,\n",
      "Nearest to for: narrow, hunan, by, without, when, sesotho, pangloss, against,\n",
      "Nearest to not: usually, they, now, still, you, to, wallet, overlaps,\n",
      "Nearest to during: after, in, however, although, designers, cyclopaedia, including, at,\n",
      "Nearest to all: these, both, some, many, coincides, toon, bids, mp,\n",
      "Nearest to people: errant, answered, languages, countries, we, fans, years, members,\n",
      "Nearest to two: three, five, seven, eight, six, zero, four, nine,\n",
      "Nearest to some: many, these, several, any, vijayanagara, all, various, their,\n",
      "Nearest to or: and, childress, wuthering, rugged, any, snowman, than, exterminated,\n",
      "Average loss at step 42000 : 3.42338897735\n",
      "Average loss at step 44000 : 3.2719752495\n",
      "Average loss at step 46000 : 3.40491353536\n",
      "Average loss at step 48000 : 3.4286945948\n",
      "Average loss at step 50000 : 3.43698694289\n",
      "Nearest to more: less, most, very, rather, softer, maud, bigger, greater,\n",
      "Nearest to states: kingdom, nations, dusseldorf, elimination, rehab, auchinleck, pull, us,\n",
      "Nearest to these: several, many, some, those, such, both, examples, various,\n",
      "Nearest to can: will, may, would, could, should, must, cannot, might,\n",
      "Nearest to on: upon, in, digweed, through, off, from, throttled, under,\n",
      "Nearest to have: had, has, be, include, are, were, druid, having,\n",
      "Nearest to also: often, now, generally, sometimes, usually, still, which, connectedness,\n",
      "Nearest to time: emptiness, reworked, name, avatars, newell, omnivorous, year, consciousness,\n",
      "Nearest to for: after, without, when, while, narrow, sesotho, despite, downwind,\n",
      "Nearest to not: still, they, usually, pounded, almost, generally, actually, czechs,\n",
      "Nearest to during: after, in, at, however, when, under, before, designers,\n",
      "Nearest to all: many, both, some, various, several, these, augusti, each,\n",
      "Nearest to people: languages, errant, fans, answered, men, countries, writers, members,\n",
      "Nearest to two: three, five, four, six, seven, eight, one, nine,\n",
      "Nearest to some: many, several, any, these, all, their, ethics, this,\n",
      "Nearest to or: and, but, while, ecclesiastes, childress, rugged, than, without,\n",
      "Average loss at step 52000 : 3.46118004853\n",
      "Average loss at step 54000 : 3.43014511609\n",
      "Average loss at step 56000 : 3.405518058\n",
      "Average loss at step 58000 : 3.27735933247\n",
      "Average loss at step 60000 : 3.37813350785\n",
      "Nearest to more: less, most, very, rather, greater, softer, relatively, eucharistic,\n",
      "Nearest to states: nations, kingdom, countries, dusseldorf, pull, auchinleck, tahitian, obstructed,\n",
      "Nearest to these: many, some, several, those, such, all, which, both,\n",
      "Nearest to can: may, will, could, would, should, must, cannot, might,\n",
      "Nearest to on: upon, in, through, digweed, under, throttled, chocolate, hazel,\n",
      "Nearest to have: had, has, were, are, include, be, tend, having,\n",
      "Nearest to also: often, now, who, which, generally, sometimes, never, still,\n",
      "Nearest to time: year, reworked, period, emptiness, newell, intercalary, consciousness, name,\n",
      "Nearest to for: while, without, despite, after, anechoic, gacy, against, informative,\n",
      "Nearest to not: almost, they, still, now, pounded, either, generally, misses,\n",
      "Nearest to during: after, in, when, since, at, before, although, under,\n",
      "Nearest to all: some, both, many, various, several, these, any, were,\n",
      "Nearest to people: languages, men, children, answered, fans, those, tribes, countries,\n",
      "Nearest to two: five, three, four, six, eight, seven, one, nine,\n",
      "Nearest to some: many, several, any, all, these, their, those, various,\n",
      "Nearest to or: and, than, but, laoghaire, tricycle, childress, explosions, bicycling,\n",
      "Average loss at step 62000 : 3.43638338989\n",
      "Average loss at step 64000 : 3.35852372593\n",
      "Average loss at step 66000 : 3.34154169035\n",
      "Average loss at step 68000 : 3.38632700157\n",
      "Average loss at step 70000 : 3.36680792558\n",
      "Nearest to more: less, most, very, rather, larger, faster, smaller, softer,\n",
      "Nearest to states: nations, kingdom, countries, obstructed, dusseldorf, us, state, pull,\n",
      "Nearest to these: some, many, several, both, such, those, certain, various,\n",
      "Nearest to can: will, would, should, could, may, must, cannot, might,\n",
      "Nearest to on: upon, through, in, at, around, during, phanerozoic, chocolate,\n",
      "Nearest to have: had, has, were, include, are, be, tend, druid,\n",
      "Nearest to also: often, now, still, which, sometimes, generally, never, who,\n",
      "Nearest to time: newell, year, steps, period, name, day, reworked, fate,\n",
      "Nearest to for: after, against, while, without, anechoic, if, when, hentai,\n",
      "Nearest to not: they, never, you, nor, misses, either, t, czechs,\n",
      "Nearest to during: after, in, since, under, before, around, until, through,\n",
      "Nearest to all: both, many, some, various, most, several, these, augusti,\n",
      "Nearest to people: men, children, languages, fans, answered, tribes, countries, women,\n",
      "Nearest to two: three, four, seven, five, eight, six, nine, one,\n",
      "Nearest to some: many, several, these, any, all, various, most, both,\n",
      "Nearest to or: and, than, pg, rugged, caption, jiva, vittorio, hover,\n",
      "Average loss at step 72000 : 3.40198242599\n",
      "Average loss at step 74000 : 3.3866161738\n",
      "Average loss at step 76000 : 3.3464998371\n",
      "Average loss at step 78000 : 3.23371357864\n",
      "Average loss at step 80000 : 3.37064376956\n",
      "Nearest to more: less, most, very, rather, larger, higher, too, softer,\n",
      "Nearest to states: nations, kingdom, countries, dusseldorf, obstructed, programmed, us, charterer,\n",
      "Nearest to these: some, several, those, many, such, both, various, certain,\n",
      "Nearest to can: will, could, may, should, would, must, cannot, might,\n",
      "Nearest to on: upon, through, within, in, throttled, hazel, off, yehuda,\n",
      "Nearest to have: had, has, are, were, include, be, druid, tend,\n",
      "Nearest to also: often, now, still, which, sometimes, never, usually, generally,\n",
      "Nearest to time: period, day, steps, newell, intercalary, fate, year, name,\n",
      "Nearest to for: if, without, while, of, sesotho, against, despite, when,\n",
      "Nearest to not: never, nor, still, they, misses, therefore, now, pounded,\n",
      "Nearest to during: after, before, since, in, until, throughout, at, following,\n",
      "Nearest to all: both, various, some, many, every, any, each, most,\n",
      "Nearest to people: languages, children, men, women, fans, troops, tribes, answered,\n",
      "Nearest to two: three, four, five, one, seven, six, eight, zero,\n",
      "Nearest to some: many, several, any, these, various, both, most, those,\n",
      "Nearest to or: and, than, while, childress, camelcase, nicolae, binder, baptismal,\n",
      "Average loss at step 82000 : 3.29459162536\n",
      "Average loss at step 84000 : 3.3397320286\n",
      "Average loss at step 86000 : 3.3441922394\n",
      "Average loss at step 88000 : 3.31713059694\n",
      "Average loss at step 90000 : 3.2393581717\n",
      "Nearest to more: less, most, rather, very, higher, smaller, larger, fairly,\n",
      "Nearest to states: kingdom, nations, countries, state, obstructed, us, incarceration, dusseldorf,\n",
      "Nearest to these: several, those, many, some, such, various, both, multiple,\n",
      "Nearest to can: could, should, will, would, cannot, may, must, might,\n",
      "Nearest to on: upon, in, digweed, throttled, about, hazel, around, through,\n",
      "Nearest to have: has, had, include, be, are, tend, having, were,\n",
      "Nearest to also: often, still, now, never, which, who, sometimes, famously,\n",
      "Nearest to time: period, steps, day, newell, thing, year, date, years,\n",
      "Nearest to for: garrick, anechoic, without, after, crypt, emphasized, as, by,\n",
      "Nearest to not: nor, wallet, never, still, generally, now, pounded, t,\n",
      "Nearest to during: after, in, until, before, at, around, since, following,\n",
      "Nearest to all: both, various, many, any, several, every, some, endocarditis,\n",
      "Nearest to people: children, men, troops, languages, women, fans, tribes, americans,\n",
      "Nearest to two: three, five, seven, four, six, one, eight, zero,\n",
      "Nearest to some: many, several, any, these, various, certain, those, all,\n",
      "Nearest to or: and, than, stanislaus, pg, elin, childress, italiana, gherkin,\n",
      "Average loss at step 92000 : 2.73557423347\n",
      "Average loss at step 94000 : 3.09507343072\n",
      "Average loss at step 96000 : 3.06636631161\n",
      "Average loss at step 98000 : 3.22242498922\n",
      "Average loss at step 100000 : 3.28018945229\n",
      "Nearest to more: less, most, rather, very, smaller, higher, faster, fairly,\n",
      "Nearest to states: kingdom, nations, state, countries, us, obstructed, filmfare, elections,\n",
      "Nearest to these: many, several, some, those, both, such, various, multiple,\n",
      "Nearest to can: could, should, will, would, must, may, cannot, might,\n",
      "Nearest to on: upon, in, hazel, digweed, banquets, hyperion, around, at,\n",
      "Nearest to have: had, has, having, include, tend, were, are, be,\n",
      "Nearest to also: often, still, now, never, sometimes, who, generally, connectedness,\n",
      "Nearest to time: period, thing, day, way, newell, years, date, reworked,\n",
      "Nearest to for: without, gacy, downwind, by, after, pcbs, sesotho, of,\n",
      "Nearest to not: nor, generally, wallet, still, now, never, actually, t,\n",
      "Nearest to during: after, around, until, in, under, at, following, since,\n",
      "Nearest to all: both, various, many, any, some, these, each, every,\n",
      "Nearest to people: men, children, women, americans, fans, languages, tribes, persons,\n",
      "Nearest to two: three, five, four, seven, six, eight, zero, one,\n",
      "Nearest to some: many, several, these, any, various, both, those, most,\n",
      "Nearest to or: and, than, any, binder, without, pg, stanislaus, masterminded,\n",
      "991.030816\n"
     ]
    }
   ],
   "source": [
    "start= time.clock()\n",
    "\n",
    "num_steps = 100001\n",
    "\n",
    "with tf.Session(graph=graph) as session:\n",
    "  tf.initialize_all_variables().run()\n",
    "  print \"Initialized\"\n",
    "  average_loss = 0\n",
    "  for step in xrange(num_steps):\n",
    "    batch_data, batch_labels = generate_batch(\n",
    "      batch_size, num_skips, skip_window)\n",
    "    feed_dict = {train_dataset : batch_data, train_labels : batch_labels}\n",
    "    _, l = session.run([optimizer, loss], feed_dict=feed_dict)\n",
    "    average_loss += l\n",
    "    if step % 2000 == 0:\n",
    "      if step > 0:\n",
    "        average_loss = average_loss / 2000\n",
    "      # The average loss is an estimate of the loss over the last 2000 batches.\n",
    "      print \"Average loss at step\", step, \":\", average_loss\n",
    "      average_loss = 0\n",
    "    # note that this is expensive (~20% slowdown if computed every 500 steps)\n",
    "    if step % 10000 == 0:\n",
    "      sim = similarity.eval()\n",
    "      for i in xrange(valid_size):\n",
    "        valid_word = reverse_dictionary[valid_examples[i]]\n",
    "        top_k = 8 # number of nearest neighbors\n",
    "        nearest = (-sim[i, :]).argsort()[1:top_k+1]\n",
    "        log = \"Nearest to %s:\" % valid_word\n",
    "        for k in xrange(top_k):\n",
    "          close_word = reverse_dictionary[nearest[k]]\n",
    "          log = \"%s %s,\" % (log, close_word)\n",
    "        print log\n",
    "  final_embeddings = normalized_embeddings.eval()\n",
    "\n",
    "end= time.clock()\n",
    "elapsed = end - start\n",
    "print elapsed"
   ]
  },
  {
   "cell_type": "code",
   "execution_count": 14,
   "metadata": {
    "cellView": "both",
    "colab": {
     "autoexec": {
      "startup": false,
      "wait_interval": 0
     }
    },
    "colab_type": "code",
    "collapsed": true,
    "id": "jjJXYA_XzV79"
   },
   "outputs": [],
   "source": [
    "num_points = 400\n",
    "\n",
    "tsne = TSNE(perplexity=30, n_components=2, init='pca', n_iter=5000)\n",
    "two_d_embeddings = tsne.fit_transform(final_embeddings[1:num_points+1, :])"
   ]
  },
  {
   "cell_type": "code",
   "execution_count": 15,
   "metadata": {
    "cellView": "both",
    "colab": {
     "autoexec": {
      "startup": false,
      "wait_interval": 0
     },
     "output_extras": [
      {
       "item_id": 1
      }
     ]
    },
    "colab_type": "code",
    "collapsed": false,
    "executionInfo": {
     "elapsed": 4763,
     "status": "ok",
     "timestamp": 1445965465525,
     "user": {
      "color": "#1FA15D",
      "displayName": "Vincent Vanhoucke",
      "isAnonymous": false,
      "isMe": true,
      "permissionId": "05076109866853157986",
      "photoUrl": "//lh6.googleusercontent.com/-cCJa7dTDcgQ/AAAAAAAAAAI/AAAAAAAACgw/r2EZ_8oYer4/s50-c-k-no/photo.jpg",
      "sessionId": "2f1ffade4c9f20de",
      "userId": "102167687554210253930"
     },
     "user_tz": 420
    },
    "id": "o_e0D_UezcDe",
    "outputId": "df22e4a5-e8ec-4e5e-d384-c6cf37c68c34"
   },
   "outputs": [],
   "source": [
    "def plot(embeddings, labels):\n",
    "  assert embeddings.shape[0] >= len(labels), 'More labels than embeddings'\n",
    "  pylab.figure(figsize=(15,15))  # in inches\n",
    "  for i, label in enumerate(labels):\n",
    "    x, y = embeddings[i,:]\n",
    "    pylab.scatter(x, y)\n",
    "    pylab.annotate(label, xy=(x, y), xytext=(5, 2), textcoords='offset points',\n",
    "                   ha='right', va='bottom')\n",
    "  pylab.show()\n",
    "\n",
    "words = [reverse_dictionary[i] for i in xrange(1, num_points+1)]\n",
    "plot(two_d_embeddings, words)"
   ]
  },
  {
   "cell_type": "markdown",
   "metadata": {
    "colab_type": "text",
    "id": "QB5EFrBnpNnc"
   },
   "source": [
    "---\n",
    "\n",
    "Problem\n",
    "-------\n",
    "\n",
    "An alternative to Word2Vec is called [CBOW](http://arxiv.org/abs/1301.3781) (Continuous Bag of Words). In the CBOW model, instead of predicting a context word from a word vector, you predict a word from the sum of all the word vectors in its context. Implement and evaluate a CBOW model trained on the text8 dataset.\n",
    "\n",
    "---"
   ]
  },
  {
   "cell_type": "code",
   "execution_count": null,
   "metadata": {
    "collapsed": true
   },
   "outputs": [],
   "source": []
  }
 ],
 "metadata": {
  "colab": {
   "default_view": {},
   "name": "5_word2vec.ipynb",
   "version": "0.3.2",
   "views": {}
  },
  "kernelspec": {
   "display_name": "Python 2",
   "language": "python",
   "name": "python2"
  },
  "language_info": {
   "codemirror_mode": {
    "name": "ipython",
    "version": 2
   },
   "file_extension": ".py",
   "mimetype": "text/x-python",
   "name": "python",
   "nbconvert_exporter": "python",
   "pygments_lexer": "ipython2",
   "version": "2.7.11"
  }
 },
 "nbformat": 4,
 "nbformat_minor": 0
}
